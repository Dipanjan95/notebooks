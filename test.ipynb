{
    "cells": [
        {
            "metadata": {
                "collapsed": true
            },
            "cell_type": "markdown",
            "source": "# Test\nTesting the data"
        },
        {
            "metadata": {},
            "cell_type": "code",
            "source": "\nimport os, types\nimport pandas as pd\nfrom botocore.client import Config\nimport ibm_boto3\n\ndef __iter__(self): return 0\n\n# @hidden_cell\n# The following code accesses a file in your IBM Cloud Object Storage. It includes your credentials.\n# You might want to remove those credentials before you share the notebook.\n\nif os.environ.get('RUNTIME_ENV_LOCATION_TYPE') == 'external':\n    endpoint_0900060fef084ce3ba65bee9b98e9da0 = 'https://s3.eu.cloud-object-storage.appdomain.cloud'\nelse:\n    endpoint_0900060fef084ce3ba65bee9b98e9da0 = 'https://s3.private.eu.cloud-object-storage.appdomain.cloud'\n\nclient_0900060fef084ce3ba65bee9b98e9da0 = ibm_boto3.client(service_name='s3',\n    ibm_api_key_id='cHvsdKRT0o8E8tlNkFNs-Eo8oNCiBgkPfmUfxT0JhHBO',\n    ibm_auth_endpoint=\"https://iam.cloud.ibm.com/oidc/token\",\n    config=Config(signature_version='oauth'),\n    endpoint_url=endpoint_0900060fef084ce3ba65bee9b98e9da0)\n\nbody = client_0900060fef084ce3ba65bee9b98e9da0.get_object(Bucket='firstproject-donotdelete-pr-uxa3syoupu229r',Key='groupStudy.csv')['Body']\n# add missing __iter__ method, so pandas accepts body as file-like object\nif not hasattr(body, \"__iter__\"): body.__iter__ = types.MethodType( __iter__, body )\n\ndf_data_1 = pd.read_csv(body)\ndf_data_1.head()\n",
            "execution_count": 1,
            "outputs": [
                {
                    "output_type": "execute_result",
                    "execution_count": 1,
                    "data": {
                        "text/plain": "  Position  Hours of study  Marks scored\n0  Group-1               1            45\n1  Group-2               2            50\n2  Group-3               3            60\n3  Group-4               4            80\n4  Group-5               5           110",
                        "text/html": "<div>\n<style scoped>\n    .dataframe tbody tr th:only-of-type {\n        vertical-align: middle;\n    }\n\n    .dataframe tbody tr th {\n        vertical-align: top;\n    }\n\n    .dataframe thead th {\n        text-align: right;\n    }\n</style>\n<table border=\"1\" class=\"dataframe\">\n  <thead>\n    <tr style=\"text-align: right;\">\n      <th></th>\n      <th>Position</th>\n      <th>Hours of study</th>\n      <th>Marks scored</th>\n    </tr>\n  </thead>\n  <tbody>\n    <tr>\n      <th>0</th>\n      <td>Group-1</td>\n      <td>1</td>\n      <td>45</td>\n    </tr>\n    <tr>\n      <th>1</th>\n      <td>Group-2</td>\n      <td>2</td>\n      <td>50</td>\n    </tr>\n    <tr>\n      <th>2</th>\n      <td>Group-3</td>\n      <td>3</td>\n      <td>60</td>\n    </tr>\n    <tr>\n      <th>3</th>\n      <td>Group-4</td>\n      <td>4</td>\n      <td>80</td>\n    </tr>\n    <tr>\n      <th>4</th>\n      <td>Group-5</td>\n      <td>5</td>\n      <td>110</td>\n    </tr>\n  </tbody>\n</table>\n</div>"
                    },
                    "metadata": {}
                }
            ]
        },
        {
            "metadata": {},
            "cell_type": "code",
            "source": "",
            "execution_count": null,
            "outputs": []
        }
    ],
    "metadata": {
        "kernelspec": {
            "name": "python3",
            "display_name": "Python 3.8",
            "language": "python"
        },
        "language_info": {
            "name": "python",
            "version": "3.8.12",
            "mimetype": "text/x-python",
            "codemirror_mode": {
                "name": "ipython",
                "version": 3
            },
            "pygments_lexer": "ipython3",
            "nbconvert_exporter": "python",
            "file_extension": ".py"
        }
    },
    "nbformat": 4,
    "nbformat_minor": 1
}